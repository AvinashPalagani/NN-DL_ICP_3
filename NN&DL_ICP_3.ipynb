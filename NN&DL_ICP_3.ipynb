{
  "nbformat": 4,
  "nbformat_minor": 0,
  "metadata": {
    "colab": {
      "provenance": [],
      "authorship_tag": "ABX9TyMhQ3xq1dwmTk4RtJ/M8XGP",
      "include_colab_link": true
    },
    "kernelspec": {
      "name": "python3",
      "display_name": "Python 3"
    },
    "language_info": {
      "name": "python"
    }
  },
  "cells": [
    {
      "cell_type": "markdown",
      "metadata": {
        "id": "view-in-github",
        "colab_type": "text"
      },
      "source": [
        "<a href=\"https://colab.research.google.com/github/AvinashPalagani/NN-DL_ICP_3/blob/main/NN%26DL_ICP_3.ipynb\" target=\"_parent\"><img src=\"https://colab.research.google.com/assets/colab-badge.svg\" alt=\"Open In Colab\"/></a>"
      ]
    },
    {
      "cell_type": "code",
      "execution_count": null,
      "metadata": {
        "colab": {
          "base_uri": "https://localhost:8080/"
        },
        "id": "VYDVvrSTRMeb",
        "outputId": "ebe2e15f-7f63-4e2b-9670-34116e4cadc1"
      },
      "outputs": [
        {
          "output_type": "stream",
          "name": "stdout",
          "text": [
            "Count of the Employees : 3\n",
            "Average salary of the Employee: 216666.66666666666\n",
            "Employee Name: Vennela\n",
            "Family Members: 4\n",
            "Employee Annual Salary: 650000\n",
            "Department: Software Engineer\n",
            "==========\n",
            "Employee Name : Varshitha\n",
            "Family Members: 5\n",
            "Employee Annual Salary: 516000\n",
            "Department: Software Engineer\n",
            "Type of Employment : Fulltime\n",
            "==========\n",
            "Employee Name : Aashritha\n",
            "Family Members: 5\n",
            "Employee Annual Salary: 900000\n",
            "Department: Web Developer\n",
            "Type of Employment : Fulltime\n",
            "==========\n"
          ]
        }
      ],
      "source": [
        "# QUE 1\n",
        "\n",
        "class Employee:\n",
        "    # DATA MEMBER TO COUNT THE NUMBER OF EMPLOYEES\n",
        "    empCount = 0\n",
        "\n",
        "    # CONSTRUCTOR TO INITIALIZE NAME, FAMILY, SALARY, DEPARTMENT\n",
        "    def __init__(self, name, family, salary, department):\n",
        "        self.name = name\n",
        "        self.family = family\n",
        "        self.salary = salary\n",
        "        self.department = department\n",
        "        Employee.empCount += 1    # EMPLOYEE COUNT\n",
        "\n",
        "    # FUNCTION FOR AVERAGE SALARY OF EMPLOYEE\n",
        "    def avg_salary(self):\n",
        "        total_salary = 0\n",
        "        total_salary += float(self.salary)\n",
        "        avg = total_salary / Employee.empCount\n",
        "        print('Average salary of the Employee:', avg)\n",
        "\n",
        "    # TO DISPLAY DETAILS OF EMPLOYEE\n",
        "    def display(self):\n",
        "        print('Employee Name:', self.name)\n",
        "        print('Family Members:', self.family)\n",
        "        print('Employee Annual Salary:', self.salary)\n",
        "        print('Department:', self.department)\n",
        "        print(\"==========\")\n",
        "\n",
        "# INHERITING - EMPLOYEE CLASS\n",
        "class Fulltime_Employee(Employee):\n",
        "    def __init__(self, name, family, salary, department, emp_type):\n",
        "        Employee.__init__(self, name, family, salary, department)\n",
        "        self.emp_type = emp_type\n",
        "\n",
        "    #FUNCTION TO DISPLAY EMPLOYEE DETAILS\n",
        "    def display(self):\n",
        "        print(\"Employee Name :\", self.name)\n",
        "        print('Family Members:', self.family)\n",
        "        print('Employee Annual Salary:', self.salary)\n",
        "        print('Department:', self.department)\n",
        "        print('Type of Employment :', self.emp_type)\n",
        "        print(\"==========\")\n",
        "\n",
        "\n",
        "# INSTANCES FOR EMPLOYEE CLASS\n",
        "emp1 = Employee('Vennela', '4', '650000', 'Software Engineer')\n",
        "# INSTANCE FOR FULL TIME EMPLOYEE\n",
        "emp2 = Fulltime_Employee('Varshitha', '5', '516000', 'Software Engineer', 'Fulltime')\n",
        "emp3 = Fulltime_Employee('Aashritha', '5', '900000', 'Web Developer', 'Fulltime')\n",
        "\n",
        "print(\"Count of the Employees :\", emp1.empCount)\n",
        "emp1.avg_salary()\n",
        "emp1.display()\n",
        "emp2.display()\n",
        "emp3.display()"
      ]
    },
    {
      "cell_type": "code",
      "source": [
        "# QUE 2\n",
        "\n",
        "import numpy as np\n",
        "\n",
        "# creating array of size 20\n",
        "random_vector = np.random.uniform(1, 20, 20)\n",
        "print(\"Random Vector : \\n\", random_vector)\n",
        "\n",
        "# reshape the array to 4 by 5\n",
        "random_vector = random_vector.reshape(4,5)\n",
        "print(\"after reshaping (4 by 5): \\n\", random_vector)\n",
        "\n",
        "# replace the max in each row\n",
        "random_vector[np.arange(len(random_vector)), random_vector.argmax(1)] = 0\n",
        "print(\"Replacing the max in each row : \\n\", random_vector)"
      ],
      "metadata": {
        "colab": {
          "base_uri": "https://localhost:8080/"
        },
        "id": "XF7M9vj8Rizd",
        "outputId": "60993384-aeac-4bfe-8006-c78979c248c3"
      },
      "execution_count": null,
      "outputs": [
        {
          "output_type": "stream",
          "name": "stdout",
          "text": [
            "Random Vector : \n",
            " [17.86882005 17.20762916 17.03923213  3.97265218  7.34825233 19.28464971\n",
            "  7.23917165  2.41691563 18.81961429  3.31523158 15.66206092  2.34264905\n",
            "  4.36941354 19.45400727 14.00439346  5.5289514  12.49592613 19.01375353\n",
            " 16.61387892 15.11913312]\n",
            "after reshaping (4 by 5): \n",
            " [[17.86882005 17.20762916 17.03923213  3.97265218  7.34825233]\n",
            " [19.28464971  7.23917165  2.41691563 18.81961429  3.31523158]\n",
            " [15.66206092  2.34264905  4.36941354 19.45400727 14.00439346]\n",
            " [ 5.5289514  12.49592613 19.01375353 16.61387892 15.11913312]]\n",
            "Replacing the max in each row : \n",
            " [[ 0.         17.20762916 17.03923213  3.97265218  7.34825233]\n",
            " [ 0.          7.23917165  2.41691563 18.81961429  3.31523158]\n",
            " [15.66206092  2.34264905  4.36941354  0.         14.00439346]\n",
            " [ 5.5289514  12.49592613  0.         16.61387892 15.11913312]]\n"
          ]
        }
      ]
    }
  ]
}